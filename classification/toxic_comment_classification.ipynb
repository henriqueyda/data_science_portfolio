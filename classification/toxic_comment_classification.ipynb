{
 "cells": [
  {
   "cell_type": "markdown",
   "metadata": {},
   "source": [
    "# Toxic Comment Classification\n",
    "\n",
    "The Kaggle Toxic Comment Classification Challenge is solved in this notebook. This is a multilabel classification where each comment can be classified as multiple topics simultaneously. There are 6 different types of toxicity (toxic, severe_toxic, obscene, threat, insult and identity hate), and we have detect it in test data. Data was obtained from Wikipedia's talk page edits. This notebook has the following sections:\n",
    "\n",
    "1. Acquiring Data\n",
    "2. Exploratory Data Analysis\n",
    "3. Classical NLP Approach  \n",
    "    3.1 Data Preparation  \n",
    "    3.2 NLP model  \n",
    "    3.3 Results  \n",
    "4. Neural Network Approach  \n",
    "    4.1 Data Preparation  \n",
    "    4.2 LSTM model  \n",
    "    4.3 Results  \n",
    "5. Conclusions \n",
    "6. References"
   ]
  },
  {
   "cell_type": "markdown",
   "metadata": {},
   "source": [
    "## 1. Acquiring Data \n",
    "\n",
    "Data is available in https://www.kaggle.com/c/jigsaw-toxic-comment-classification-challenge/data. I downloaded and used 'train.csv' file. 'test.csv' wasn't used because its labels in 'test_labels.csv' contains some values labeled as -1, which indicates that it was not used for scoring in competition. \n",
    "\n",
    "First, let's load data as a pandas dataframe:"
   ]
  },
  {
   "cell_type": "code",
   "execution_count": 1,
   "metadata": {},
   "outputs": [
    {
     "data": {
      "text/html": [
       "<div>\n",
       "<style scoped>\n",
       "    .dataframe tbody tr th:only-of-type {\n",
       "        vertical-align: middle;\n",
       "    }\n",
       "\n",
       "    .dataframe tbody tr th {\n",
       "        vertical-align: top;\n",
       "    }\n",
       "\n",
       "    .dataframe thead th {\n",
       "        text-align: right;\n",
       "    }\n",
       "</style>\n",
       "<table border=\"1\" class=\"dataframe\">\n",
       "  <thead>\n",
       "    <tr style=\"text-align: right;\">\n",
       "      <th></th>\n",
       "      <th>id</th>\n",
       "      <th>comment_text</th>\n",
       "      <th>toxic</th>\n",
       "      <th>severe_toxic</th>\n",
       "      <th>obscene</th>\n",
       "      <th>threat</th>\n",
       "      <th>insult</th>\n",
       "      <th>identity_hate</th>\n",
       "    </tr>\n",
       "  </thead>\n",
       "  <tbody>\n",
       "    <tr>\n",
       "      <th>0</th>\n",
       "      <td>0000997932d777bf</td>\n",
       "      <td>Explanation\\nWhy the edits made under my usern...</td>\n",
       "      <td>0</td>\n",
       "      <td>0</td>\n",
       "      <td>0</td>\n",
       "      <td>0</td>\n",
       "      <td>0</td>\n",
       "      <td>0</td>\n",
       "    </tr>\n",
       "    <tr>\n",
       "      <th>1</th>\n",
       "      <td>000103f0d9cfb60f</td>\n",
       "      <td>D'aww! He matches this background colour I'm s...</td>\n",
       "      <td>0</td>\n",
       "      <td>0</td>\n",
       "      <td>0</td>\n",
       "      <td>0</td>\n",
       "      <td>0</td>\n",
       "      <td>0</td>\n",
       "    </tr>\n",
       "    <tr>\n",
       "      <th>2</th>\n",
       "      <td>000113f07ec002fd</td>\n",
       "      <td>Hey man, I'm really not trying to edit war. It...</td>\n",
       "      <td>0</td>\n",
       "      <td>0</td>\n",
       "      <td>0</td>\n",
       "      <td>0</td>\n",
       "      <td>0</td>\n",
       "      <td>0</td>\n",
       "    </tr>\n",
       "    <tr>\n",
       "      <th>3</th>\n",
       "      <td>0001b41b1c6bb37e</td>\n",
       "      <td>\"\\nMore\\nI can't make any real suggestions on ...</td>\n",
       "      <td>0</td>\n",
       "      <td>0</td>\n",
       "      <td>0</td>\n",
       "      <td>0</td>\n",
       "      <td>0</td>\n",
       "      <td>0</td>\n",
       "    </tr>\n",
       "    <tr>\n",
       "      <th>4</th>\n",
       "      <td>0001d958c54c6e35</td>\n",
       "      <td>You, sir, are my hero. Any chance you remember...</td>\n",
       "      <td>0</td>\n",
       "      <td>0</td>\n",
       "      <td>0</td>\n",
       "      <td>0</td>\n",
       "      <td>0</td>\n",
       "      <td>0</td>\n",
       "    </tr>\n",
       "  </tbody>\n",
       "</table>\n",
       "</div>"
      ],
      "text/plain": [
       "                 id                                       comment_text  toxic  \\\n",
       "0  0000997932d777bf  Explanation\\nWhy the edits made under my usern...      0   \n",
       "1  000103f0d9cfb60f  D'aww! He matches this background colour I'm s...      0   \n",
       "2  000113f07ec002fd  Hey man, I'm really not trying to edit war. It...      0   \n",
       "3  0001b41b1c6bb37e  \"\\nMore\\nI can't make any real suggestions on ...      0   \n",
       "4  0001d958c54c6e35  You, sir, are my hero. Any chance you remember...      0   \n",
       "\n",
       "   severe_toxic  obscene  threat  insult  identity_hate  \n",
       "0             0        0       0       0              0  \n",
       "1             0        0       0       0              0  \n",
       "2             0        0       0       0              0  \n",
       "3             0        0       0       0              0  \n",
       "4             0        0       0       0              0  "
      ]
     },
     "execution_count": 1,
     "metadata": {},
     "output_type": "execute_result"
    }
   ],
   "source": [
    "import pandas as pd\n",
    "import matplotlib.pyplot as plt\n",
    "import numpy as np\n",
    "\n",
    "df = pd.read_csv('train.csv')\n",
    "df.head()"
   ]
  },
  {
   "cell_type": "markdown",
   "metadata": {},
   "source": [
    "There are 159571 rows and 8 columns. Each comment has an ID and labels for each type of toxicity, where 0 indicates negative and 1 indicates positive. "
   ]
  },
  {
   "cell_type": "markdown",
   "metadata": {},
   "source": [
    "## 2. Exploratory Data Analysis\n",
    "\n",
    "Let's count the number of tags for each class to check if there is some kind of imbalance."
   ]
  },
  {
   "cell_type": "code",
   "execution_count": 2,
   "metadata": {
    "scrolled": true
   },
   "outputs": [
    {
     "data": {
      "image/png": "[encoded data removed]",
      "text/plain": [
       "<Figure size 432x288 with 1 Axes>"
      ]
     },
     "metadata": {
      "needs_background": "light"
     },
     "output_type": "display_data"
    }
   ],
   "source": [
    "df.iloc[:,2:].sum().sort_values(ascending=False).plot(kind='bar')\n",
    "plt.title('Number of tags for each class')\n",
    "plt.xlabel('Number of occurrences')\n",
    "plt.ylabel('Class')\n",
    "plt.show()"
   ]
  },
  {
   "cell_type": "markdown",
   "metadata": {},
   "source": [
    "We can see in the plot above that there is some class imbalance. There are a lot of comments labeled as 'toxic', but few comments labeled as 'severe_toxic', 'identity_hate' and 'threat'. Let's check if there is a null comment text:"
   ]
  },
  {
   "cell_type": "code",
   "execution_count": 3,
   "metadata": {
    "scrolled": true
   },
   "outputs": [
    {
     "data": {
      "text/plain": [
       "0"
      ]
     },
     "execution_count": 3,
     "metadata": {},
     "output_type": "execute_result"
    }
   ],
   "source": [
    "# number of null comments\n",
    "df['comment_text'].isnull().sum()"
   ]
  },
  {
   "cell_type": "markdown",
   "metadata": {},
   "source": [
    "There aren't null comments, but a lot of comments seems to have all classes labeled as 0, which are 'clean' (normal) comments. In the cell below we see that the percentage of clean comments is 89.83%, a great part of the dataset. "
   ]
  },
  {
   "cell_type": "code",
   "execution_count": 4,
   "metadata": {
    "scrolled": true
   },
   "outputs": [
    {
     "name": "stdout",
     "output_type": "stream",
     "text": [
      "There are 143346 clean comments and 16225 toxic comments. 89.83211235124176% of all comments are clean and 10.167887648758233% are toxic\n"
     ]
    }
   ],
   "source": [
    "num_clean_comments = len(df[df.iloc[:,2:].sum(axis=1) == 0])\n",
    "total = len(df)\n",
    "num_toxic_comments = total - num_clean_comments\n",
    "print('There are {} clean comments and {} toxic comments. {}% of all comments are clean and {}% are toxic'.format(num_clean_comments, num_toxic_comments, num_clean_comments*100/total, num_toxic_comments*100/total))"
   ]
  },
  {
   "cell_type": "markdown",
   "metadata": {},
   "source": [
    "Within comments tagged with a label, it is possible to inspect how many of these comments have multiple labels. In the chart below we see that there are a lot of comments with 2 and 3 simultaneous labels."
   ]
  },
  {
   "cell_type": "code",
   "execution_count": 5,
   "metadata": {},
   "outputs": [
    {
     "data": {
      "image/png": "[encoded data removed]",
      "text/plain": [
       "<Figure size 432x288 with 1 Axes>"
      ]
     },
     "metadata": {
      "needs_background": "light"
     },
     "output_type": "display_data"
    }
   ],
   "source": [
    "multi_tag = df.iloc[:,2:].sum(axis=1).value_counts().iloc[1:]\n",
    "plt.bar(multi_tag.index, multi_tag.values)\n",
    "plt.title('Number of comments with simultaneous labels')\n",
    "plt.xlabel('Number of simultaneous labels')\n",
    "plt.ylabel('Number of comments')\n",
    "plt.show()"
   ]
  },
  {
   "cell_type": "markdown",
   "metadata": {},
   "source": [
    "## 3. Classical NLP approach\n",
    "\n",
    "In this section a machine learning model for NLP is developed. We will use some common NLP techniques such as term-document matrix and Tf-idf.\n"
   ]
  },
  {
   "cell_type": "markdown",
   "metadata": {},
   "source": [
    "### 3.1 Data Preparation\n",
    "\n",
    "First, some important libraries are imported"
   ]
  },
  {
   "cell_type": "code",
   "execution_count": 6,
   "metadata": {
    "scrolled": true
   },
   "outputs": [
    {
     "name": "stderr",
     "output_type": "stream",
     "text": [
      "[nltk_data] Downloading package stopwords to\n",
      "[nltk_data]     C:\\Users\\henri\\AppData\\Roaming\\nltk_data...\n",
      "[nltk_data]   Package stopwords is already up-to-date!\n",
      "[nltk_data] Downloading package wordnet to\n",
      "[nltk_data]     C:\\Users\\henri\\AppData\\Roaming\\nltk_data...\n",
      "[nltk_data]   Package wordnet is already up-to-date!\n"
     ]
    }
   ],
   "source": [
    "import re\n",
    "import nltk\n",
    "nltk.download('stopwords')\n",
    "nltk.download('wordnet')\n",
    "from nltk.corpus import stopwords\n",
    "from nltk.stem import WordNetLemmatizer\n",
    "import contractions"
   ]
  },
  {
   "cell_type": "markdown",
   "metadata": {},
   "source": [
    "Some transformations are applied to every document in the dataset:\n",
    "- Substitute all characters that are not letters to blank space\n",
    "- Transform all upper case characters to lower case\n",
    "- Expand all contractions (e.g You're -> You are)\n",
    "- Turn every document into a list of words with document.split()\n",
    "- Apply lemmatization to every word in every document, which consistis in converting a word to its base form considering its context.\n",
    "- Join all transformed words in each document"
   ]
  },
  {
   "cell_type": "code",
   "execution_count": 7,
   "metadata": {},
   "outputs": [],
   "source": [
    "text = []\n",
    "stemmer = WordNetLemmatizer()\n",
    "\n",
    "for i in range(0, len(df['comment_text'])):\n",
    "    document = re.sub(\"[^A-Za-z']\", ' ', df['comment_text'][i])\n",
    "    document = document.lower()\n",
    "    document = contractions.fix(document)\n",
    "    document = document.split()\n",
    "    document = [stemmer.lemmatize(word) for word in document]\n",
    "    document = ' '.join(document)\n",
    "    text.append(document)"
   ]
  },
  {
   "cell_type": "markdown",
   "metadata": {},
   "source": [
    "The transformed text is shown below in 'comment_text_transformed' column."
   ]
  },
  {
   "cell_type": "code",
   "execution_count": 8,
   "metadata": {},
   "outputs": [
    {
     "data": {
      "text/html": [
       "<div>\n",
       "<style scoped>\n",
       "    .dataframe tbody tr th:only-of-type {\n",
       "        vertical-align: middle;\n",
       "    }\n",
       "\n",
       "    .dataframe tbody tr th {\n",
       "        vertical-align: top;\n",
       "    }\n",
       "\n",
       "    .dataframe thead th {\n",
       "        text-align: right;\n",
       "    }\n",
       "</style>\n",
       "<table border=\"1\" class=\"dataframe\">\n",
       "  <thead>\n",
       "    <tr style=\"text-align: right;\">\n",
       "      <th></th>\n",
       "      <th>id</th>\n",
       "      <th>comment_text</th>\n",
       "      <th>toxic</th>\n",
       "      <th>severe_toxic</th>\n",
       "      <th>obscene</th>\n",
       "      <th>threat</th>\n",
       "      <th>insult</th>\n",
       "      <th>identity_hate</th>\n",
       "      <th>comment_text_transformed</th>\n",
       "    </tr>\n",
       "  </thead>\n",
       "  <tbody>\n",
       "    <tr>\n",
       "      <th>0</th>\n",
       "      <td>0000997932d777bf</td>\n",
       "      <td>Explanation\\nWhy the edits made under my usern...</td>\n",
       "      <td>0</td>\n",
       "      <td>0</td>\n",
       "      <td>0</td>\n",
       "      <td>0</td>\n",
       "      <td>0</td>\n",
       "      <td>0</td>\n",
       "      <td>explanation why the edits made under my userna...</td>\n",
       "    </tr>\n",
       "    <tr>\n",
       "      <th>1</th>\n",
       "      <td>000103f0d9cfb60f</td>\n",
       "      <td>D'aww! He matches this background colour I'm s...</td>\n",
       "      <td>0</td>\n",
       "      <td>0</td>\n",
       "      <td>0</td>\n",
       "      <td>0</td>\n",
       "      <td>0</td>\n",
       "      <td>0</td>\n",
       "      <td>d'aww he match this background colour I am see...</td>\n",
       "    </tr>\n",
       "    <tr>\n",
       "      <th>2</th>\n",
       "      <td>000113f07ec002fd</td>\n",
       "      <td>Hey man, I'm really not trying to edit war. It...</td>\n",
       "      <td>0</td>\n",
       "      <td>0</td>\n",
       "      <td>0</td>\n",
       "      <td>0</td>\n",
       "      <td>0</td>\n",
       "      <td>0</td>\n",
       "      <td>hey man I am really not trying to edit war it ...</td>\n",
       "    </tr>\n",
       "    <tr>\n",
       "      <th>3</th>\n",
       "      <td>0001b41b1c6bb37e</td>\n",
       "      <td>\"\\nMore\\nI can't make any real suggestions on ...</td>\n",
       "      <td>0</td>\n",
       "      <td>0</td>\n",
       "      <td>0</td>\n",
       "      <td>0</td>\n",
       "      <td>0</td>\n",
       "      <td>0</td>\n",
       "      <td>more i can not make any real suggestion on imp...</td>\n",
       "    </tr>\n",
       "    <tr>\n",
       "      <th>4</th>\n",
       "      <td>0001d958c54c6e35</td>\n",
       "      <td>You, sir, are my hero. Any chance you remember...</td>\n",
       "      <td>0</td>\n",
       "      <td>0</td>\n",
       "      <td>0</td>\n",
       "      <td>0</td>\n",
       "      <td>0</td>\n",
       "      <td>0</td>\n",
       "      <td>you sir are my hero any chance you remember wh...</td>\n",
       "    </tr>\n",
       "  </tbody>\n",
       "</table>\n",
       "</div>"
      ],
      "text/plain": [
       "                 id                                       comment_text  toxic  \\\n",
       "0  0000997932d777bf  Explanation\\nWhy the edits made under my usern...      0   \n",
       "1  000103f0d9cfb60f  D'aww! He matches this background colour I'm s...      0   \n",
       "2  000113f07ec002fd  Hey man, I'm really not trying to edit war. It...      0   \n",
       "3  0001b41b1c6bb37e  \"\\nMore\\nI can't make any real suggestions on ...      0   \n",
       "4  0001d958c54c6e35  You, sir, are my hero. Any chance you remember...      0   \n",
       "\n",
       "   severe_toxic  obscene  threat  insult  identity_hate  \\\n",
       "0             0        0       0       0              0   \n",
       "1             0        0       0       0              0   \n",
       "2             0        0       0       0              0   \n",
       "3             0        0       0       0              0   \n",
       "4             0        0       0       0              0   \n",
       "\n",
       "                            comment_text_transformed  \n",
       "0  explanation why the edits made under my userna...  \n",
       "1  d'aww he match this background colour I am see...  \n",
       "2  hey man I am really not trying to edit war it ...  \n",
       "3  more i can not make any real suggestion on imp...  \n",
       "4  you sir are my hero any chance you remember wh...  "
      ]
     },
     "execution_count": 8,
     "metadata": {},
     "output_type": "execute_result"
    }
   ],
   "source": [
    "df['comment_text_transformed'] = text\n",
    "df.head()"
   ]
  },
  {
   "cell_type": "markdown",
   "metadata": {},
   "source": [
    "We shuffle and then separate data in 70% for train and 30% for test. "
   ]
  },
  {
   "cell_type": "code",
   "execution_count": 9,
   "metadata": {},
   "outputs": [],
   "source": [
    "from sklearn.model_selection import train_test_split\n",
    "\n",
    "train, test = train_test_split(df, random_state=42, test_size=0.30, shuffle=True)"
   ]
  },
  {
   "cell_type": "markdown",
   "metadata": {},
   "source": [
    "All transformed texts are stored in X_train and X_test and labels in Y_train and Y_test."
   ]
  },
  {
   "cell_type": "code",
   "execution_count": 11,
   "metadata": {},
   "outputs": [],
   "source": [
    "X_train = train['comment_text_transformed'].values\n",
    "y_train = train.drop(labels=['id','comment_text','comment_text_transformed'], axis=1)\n",
    "X_test = test['comment_text_transformed'].values\n",
    "y_test = test.drop(labels=['id','comment_text','comment_text_transformed'], axis=1)"
   ]
  },
  {
   "cell_type": "markdown",
   "metadata": {},
   "source": [
    "### 3.2 NLP model "
   ]
  },
  {
   "cell_type": "markdown",
   "metadata": {},
   "source": [
    "Let's import some important libraries."
   ]
  },
  {
   "cell_type": "code",
   "execution_count": 12,
   "metadata": {},
   "outputs": [],
   "source": [
    "from sklearn.pipeline import Pipeline\n",
    "from sklearn.feature_extraction.text import CountVectorizer\n",
    "from sklearn.feature_extraction.text import TfidfTransformer\n",
    "from sklearn.multiclass import OneVsRestClassifier\n",
    "from sklearn.naive_bayes import MultinomialNB\n",
    "from sklearn.linear_model import LogisticRegression\n",
    "\n",
    "from sklearn.metrics import classification_report\n",
    "from sklearn.metrics import multilabel_confusion_matrix"
   ]
  },
  {
   "cell_type": "markdown",
   "metadata": {},
   "source": [
    "First it is necessary to transform text into a term-document matrix. In this matrix each row correspond to a document and each column is every word in the dataset and the values correspond to the frequency of that word in the document. After that, we calculate the Tf-Idf, which is a statistic that measures how important a word is to both the document and the entire dataset. As we have a multilabel classification problem, in which each comment can be labeled simultaneously with different aspects (e.g: a comment can be toxic and obscene at the same time), we use the OneVsRest approach. OneVsRest decomposes the problem into multiple independent binary classifications, building one classifier per class. We will try Naive-Bayes and Logistic Regression to check which algorithm performs better. "
   ]
  },
  {
   "cell_type": "code",
   "execution_count": 13,
   "metadata": {},
   "outputs": [
    {
     "name": "stdout",
     "output_type": "stream",
     "text": [
      "Processing MultinomialNB()\n"
     ]
    },
    {
     "name": "stderr",
     "output_type": "stream",
     "text": [
      "C:\\Users\\henri\\Anaconda3\\lib\\site-packages\\sklearn\\metrics\\_classification.py:1221: UndefinedMetricWarning: Precision and F-score are ill-defined and being set to 0.0 in labels with no predicted samples. Use `zero_division` parameter to control this behavior.\n",
      "  _warn_prf(average, modifier, msg_start, len(result))\n",
      "C:\\Users\\henri\\Anaconda3\\lib\\site-packages\\sklearn\\metrics\\_classification.py:1221: UndefinedMetricWarning: Precision and F-score are ill-defined and being set to 0.0 in samples with no predicted labels. Use `zero_division` parameter to control this behavior.\n",
      "  _warn_prf(average, modifier, msg_start, len(result))\n",
      "C:\\Users\\henri\\Anaconda3\\lib\\site-packages\\sklearn\\metrics\\_classification.py:1221: UndefinedMetricWarning: Recall and F-score are ill-defined and being set to 0.0 in samples with no true labels. Use `zero_division` parameter to control this behavior.\n",
      "  _warn_prf(average, modifier, msg_start, len(result))\n"
     ]
    },
    {
     "name": "stdout",
     "output_type": "stream",
     "text": [
      "Accuracy toxic: 0.9222092245989305\n",
      "Accuracy severe_toxic: 0.9898479278074866\n",
      "Accuracy obscene: 0.9524774398395722\n",
      "Accuracy threat: 0.9971590909090909\n",
      "Accuracy insult: 0.9522894385026738\n",
      "Accuracy identity_hate: 0.990975935828877\n",
      "               precision    recall  f1-score   support\n",
      "\n",
      "        toxic       0.99      0.19      0.32      4582\n",
      " severe_toxic       0.00      0.00      0.00       486\n",
      "      obscene       0.98      0.11      0.20      2556\n",
      "       threat       0.00      0.00      0.00       136\n",
      "       insult       0.96      0.05      0.09      2389\n",
      "identity_hate       0.00      0.00      0.00       432\n",
      "\n",
      "    micro avg       0.99      0.12      0.21     10581\n",
      "    macro avg       0.49      0.06      0.10     10581\n",
      " weighted avg       0.88      0.12      0.21     10581\n",
      "  samples avg       0.02      0.01      0.01     10581\n",
      "\n",
      "Processing LogisticRegression()\n",
      "Accuracy toxic: 0.9560285762032086\n",
      "Accuracy severe_toxic: 0.990704378342246\n",
      "Accuracy obscene: 0.976290942513369\n",
      "Accuracy threat: 0.9973679812834224\n",
      "Accuracy insult: 0.9696064505347594\n",
      "Accuracy identity_hate: 0.9918950534759359\n",
      "               precision    recall  f1-score   support\n",
      "\n",
      "        toxic       0.92      0.59      0.72      4582\n",
      " severe_toxic       0.59      0.27      0.37       486\n",
      "      obscene       0.92      0.61      0.73      2556\n",
      "       threat       0.68      0.14      0.23       136\n",
      "       insult       0.82      0.50      0.62      2389\n",
      "identity_hate       0.72      0.17      0.27       432\n",
      "\n",
      "    micro avg       0.88      0.54      0.67     10581\n",
      "    macro avg       0.78      0.38      0.49     10581\n",
      " weighted avg       0.87      0.54      0.66     10581\n",
      "  samples avg       0.05      0.05      0.05     10581\n",
      "\n"
     ]
    },
    {
     "name": "stderr",
     "output_type": "stream",
     "text": [
      "C:\\Users\\henri\\Anaconda3\\lib\\site-packages\\sklearn\\metrics\\_classification.py:1221: UndefinedMetricWarning: Precision and F-score are ill-defined and being set to 0.0 in samples with no predicted labels. Use `zero_division` parameter to control this behavior.\n",
      "  _warn_prf(average, modifier, msg_start, len(result))\n",
      "C:\\Users\\henri\\Anaconda3\\lib\\site-packages\\sklearn\\metrics\\_classification.py:1221: UndefinedMetricWarning: Recall and F-score are ill-defined and being set to 0.0 in samples with no true labels. Use `zero_division` parameter to control this behavior.\n",
      "  _warn_prf(average, modifier, msg_start, len(result))\n"
     ]
    }
   ],
   "source": [
    "classifiers = [MultinomialNB(), LogisticRegression()]\n",
    "\n",
    "list_classes = ['toxic', 'severe_toxic', 'obscene', 'threat', 'insult', 'identity_hate']\n",
    "for classifier in classifiers:\n",
    "    print(\"Processing {}\".format(classifier))\n",
    "    pipeline = Pipeline([('vect', CountVectorizer(stop_words=stopwords.words('english'))),\n",
    "                        ('tfidf', TfidfTransformer()),\n",
    "                        ('classifier', OneVsRestClassifier(classifier))])\n",
    "    pipeline.fit(X_train, y_train)\n",
    "    pred = pipeline.predict(X_test)\n",
    "    conf =  multilabel_confusion_matrix(y_test, pred)\n",
    "    report = classification_report(y_test, pred, target_names=list_classes)\n",
    "    for i in range(0, len(list_classes)):\n",
    "        acc_class = (conf[i][0][0] + conf[i][1][1])/np.sum(conf[i])\n",
    "        print('Accuracy {}: {}'.format(list_classes[i], acc_class))\n",
    "    print(report)"
   ]
  },
  {
   "cell_type": "markdown",
   "metadata": {},
   "source": [
    "### 3.3 Results\n",
    "Looking at the precision, recall and accuracy values for each category, it is possible to conclude that Logistic Regression performs better than Naive Bayes, so the first is the better option. Recall values are considerably lower than precision values. This indicates a high number of false negatives, in other words, the model is labeling a lot of actual toxic comments as non-toxic. This is bad, because we are missing a lot of toxic comments.\n",
    "\n",
    "Classes severe_toxic, threat and identity_hate had the worst results in both algorithms. This happens probably due to class imbalance, as discussed in section 2. "
   ]
  },
  {
   "cell_type": "markdown",
   "metadata": {},
   "source": [
    "To improve our chosen model, a grid search is implemented."
   ]
  },
  {
   "cell_type": "code",
   "execution_count": 14,
   "metadata": {},
   "outputs": [
    {
     "name": "stdout",
     "output_type": "stream",
     "text": [
      "0.9195963825247542\n",
      "{'model__estimator__penalty': 'l1', 'model__estimator__solver': 'liblinear'}\n"
     ]
    },
    {
     "ename": "NameError",
     "evalue": "name 'accuracy_score' is not defined",
     "output_type": "error",
     "traceback": [
      "\u001b[1;31m---------------------------------------------------------------------------\u001b[0m",
      "\u001b[1;31mNameError\u001b[0m                                 Traceback (most recent call last)",
      "\u001b[1;32m<ipython-input-14-0447978b0211>\u001b[0m in \u001b[0;36m<module>\u001b[1;34m\u001b[0m\n\u001b[0;32m     11\u001b[0m \u001b[0mprint\u001b[0m\u001b[1;33m(\u001b[0m\u001b[0msearch\u001b[0m\u001b[1;33m.\u001b[0m\u001b[0mbest_params_\u001b[0m\u001b[1;33m)\u001b[0m\u001b[1;33m\u001b[0m\u001b[1;33m\u001b[0m\u001b[0m\n\u001b[0;32m     12\u001b[0m \u001b[0mpred\u001b[0m \u001b[1;33m=\u001b[0m \u001b[0msearch\u001b[0m\u001b[1;33m.\u001b[0m\u001b[0mpredict\u001b[0m\u001b[1;33m(\u001b[0m\u001b[0mX_test\u001b[0m\u001b[1;33m)\u001b[0m\u001b[1;33m\u001b[0m\u001b[1;33m\u001b[0m\u001b[0m\n\u001b[1;32m---> 13\u001b[1;33m \u001b[0macc\u001b[0m \u001b[1;33m=\u001b[0m \u001b[0maccuracy_score\u001b[0m\u001b[1;33m(\u001b[0m\u001b[0my_test\u001b[0m\u001b[1;33m,\u001b[0m \u001b[0mpred\u001b[0m\u001b[1;33m)\u001b[0m\u001b[1;33m\u001b[0m\u001b[1;33m\u001b[0m\u001b[0m\n\u001b[0m\u001b[0;32m     14\u001b[0m \u001b[0mconf\u001b[0m \u001b[1;33m=\u001b[0m  \u001b[0mmultilabel_confusion_matrix\u001b[0m\u001b[1;33m(\u001b[0m\u001b[0my_test\u001b[0m\u001b[1;33m,\u001b[0m \u001b[0mpred\u001b[0m\u001b[1;33m)\u001b[0m\u001b[1;33m\u001b[0m\u001b[1;33m\u001b[0m\u001b[0m\n\u001b[0;32m     15\u001b[0m \u001b[0mreport\u001b[0m \u001b[1;33m=\u001b[0m \u001b[0mclassification_report\u001b[0m\u001b[1;33m(\u001b[0m\u001b[0my_test\u001b[0m\u001b[1;33m,\u001b[0m \u001b[0mpred\u001b[0m\u001b[1;33m,\u001b[0m \u001b[0mtarget_names\u001b[0m\u001b[1;33m=\u001b[0m\u001b[0mlist_classes\u001b[0m\u001b[1;33m)\u001b[0m\u001b[1;33m\u001b[0m\u001b[1;33m\u001b[0m\u001b[0m\n",
      "\u001b[1;31mNameError\u001b[0m: name 'accuracy_score' is not defined"
     ]
    }
   ],
   "source": [
    "from sklearn.model_selection import GridSearchCV\n",
    "\n",
    "grid_values = {'model__estimator__penalty':['l1', 'l2'], 'model__estimator__solver':['liblinear']}\n",
    "\n",
    "pipeline = Pipeline([('vect', CountVectorizer(stop_words=stopwords.words('english'))),\n",
    "                    ('tfidf', TfidfTransformer()),\n",
    "                    ('model', OneVsRestClassifier(LogisticRegression()))])\n",
    "search = GridSearchCV(pipeline, grid_values, cv=10)\n",
    "search.fit(X_train, y_train)\n",
    "print(search.best_score_)\n",
    "print(search.best_params_)\n",
    "pred = search.predict(X_test)\n",
    "acc = accuracy_score(y_test, pred)\n",
    "conf =  multilabel_confusion_matrix(y_test, pred)\n",
    "report = classification_report(y_test, pred, target_names=list_classes)\n",
    "print('Accuracy: {}'.format(acc))\n",
    "for i in range(0, len(list_classes)):\n",
    "    acc_class = (conf[i][0][0] + conf[i][1][1])/np.sum(conf[i])\n",
    "    print('Accuracy {}: {}'.format(list_classes[i], acc_class))\n",
    "print(report)"
   ]
  },
  {
   "cell_type": "markdown",
   "metadata": {},
   "source": [
    "Using l1 regularization and changing the solver improved recall values, but we'll try another approach to see how it performs."
   ]
  },
  {
   "cell_type": "markdown",
   "metadata": {},
   "source": [
    "# 4. Neural Network Approach"
   ]
  },
  {
   "cell_type": "markdown",
   "metadata": {},
   "source": [
    "In this section a neural network (NN) model is built. As we have a NLP problem, a LSTM (Long-Short Term Memory) recurrent NN is used, because it is a model capable of processing sequential data. "
   ]
  },
  {
   "cell_type": "markdown",
   "metadata": {},
   "source": [
    "### 4.1 Data Preparation"
   ]
  },
  {
   "cell_type": "markdown",
   "metadata": {},
   "source": [
    "We start the data preparation using the Tokenizer function, that transform the sentence in an integer array, in which each word corresponds to an integer."
   ]
  },
  {
   "cell_type": "code",
   "execution_count": 65,
   "metadata": {},
   "outputs": [],
   "source": [
    "from keras.preprocessing.text import Tokenizer\n",
    "from keras.preprocessing.sequence import pad_sequences\n",
    "\n",
    "tokenizer = Tokenizer()\n",
    "tokenizer.fit_on_texts(list(np.concatenate((X_train,X_test))))\n",
    "list_tokenized_train = tokenizer.texts_to_sequences(list(X_train))\n",
    "list_tokenized_test = tokenizer.texts_to_sequences(list(X_test))"
   ]
  },
  {
   "cell_type": "markdown",
   "metadata": {},
   "source": [
    "Let's check the number of words per sentence distribution:"
   ]
  },
  {
   "cell_type": "code",
   "execution_count": 87,
   "metadata": {},
   "outputs": [
    {
     "data": {
      "image/png": "[encoded data removed]",
      "text/plain": [
       "<Figure size 432x288 with 1 Axes>"
      ]
     },
     "metadata": {
      "needs_background": "light"
     },
     "output_type": "display_data"
    }
   ],
   "source": [
    "totalNumWords = [len(one_comment) for one_comment in list_tokenized_train]\n",
    "plt.hist(totalNumWords,bins = np.arange(0,410,10))\n",
    "plt.title('Number of words in sentences')\n",
    "plt.ylabel('Number of Sentences')\n",
    "plt.xlabel('Number of Words')\n",
    "plt.show()"
   ]
  },
  {
   "cell_type": "markdown",
   "metadata": {},
   "source": [
    "The histogram above shows that most of the sentences are short and have less than 100 words, only a few have more that 200 words.\n",
    "\n",
    "To input data in a NN it is necessary that all words arrays have the same shape, so we use pad_sequences function. If the array is shorter than the maxlen, it is filled with zeros until it has maxlen length. If it is longer, the array is truncated.  "
   ]
  },
  {
   "cell_type": "code",
   "execution_count": 75,
   "metadata": {},
   "outputs": [],
   "source": [
    "maxlen = 200\n",
    "X_train_processed = pad_sequences(list_tokenized_train, maxlen=maxlen)\n",
    "X_test_processed = pad_sequences(list_tokenized_test, maxlen=maxlen)"
   ]
  },
  {
   "cell_type": "code",
   "execution_count": 42,
   "metadata": {},
   "outputs": [],
   "source": [
    "from keras.layers import Dense, Input, LSTM, Embedding, Dropout, Activation\n",
    "from keras.layers import Bidirectional, GlobalMaxPool1D"
   ]
  },
  {
   "cell_type": "code",
   "execution_count": 43,
   "metadata": {},
   "outputs": [],
   "source": [
    "inp = Input(shape=(maxlen, ))\n",
    "embed_size = 128\n",
    "x = Embedding(max_features, embed_size)(inp)\n",
    "x = LSTM(60, return_sequences=True,name='lstm_layer')(x)\n",
    "x = GlobalMaxPool1D()(x)\n",
    "x = Dropout(0.1)(x)\n",
    "x = Dense(6, activation=\"sigmoid\")(x)"
   ]
  },
  {
   "cell_type": "code",
   "execution_count": 44,
   "metadata": {},
   "outputs": [],
   "source": [
    "from keras.models import Model\n",
    "import tensorflow as tf"
   ]
  },
  {
   "cell_type": "code",
   "execution_count": null,
   "metadata": {},
   "outputs": [],
   "source": [
    "model = Model(inputs=inp, outputs=x)\n",
    "model.compile(loss='binary_crossentropy',\n",
    "                  optimizer='adam',\n",
    "                  metrics=[tf.keras.metrics.Precision(class_id=0, name='precision_0'),\n",
    "                           tf.keras.metrics.Precision(class_id=1, name='precision_1'),\n",
    "                           tf.keras.metrics.Precision(class_id=2, name='precision_2'),\n",
    "                           tf.keras.metrics.Precision(class_id=3, name='precision_3'),\n",
    "                           tf.keras.metrics.Precision(class_id=4, name='precision_4'),\n",
    "                           tf.keras.metrics.Precision(class_id=5, name='precision_5'), \n",
    "                           tf.keras.metrics.Recall(class_id=0, name='recall_0'),\n",
    "                           tf.keras.metrics.Recall(class_id=1, name='recall_1'),\n",
    "                           tf.keras.metrics.Recall(class_id=2, name='recall_2'),\n",
    "                           tf.keras.metrics.Recall(class_id=3, name='recall_3'),\n",
    "                           tf.keras.metrics.Recall(class_id=4, name='recall_4'),\n",
    "                           tf.keras.metrics.Recall(class_id=5, name='recall_5')])"
   ]
  },
  {
   "cell_type": "code",
   "execution_count": 50,
   "metadata": {},
   "outputs": [
    {
     "name": "stdout",
     "output_type": "stream",
     "text": [
      "Model: \"model_4\"\n",
      "_________________________________________________________________\n",
      "Layer (type)                 Output Shape              Param #   \n",
      "=================================================================\n",
      "input_1 (InputLayer)         (None, 200)               0         \n",
      "_________________________________________________________________\n",
      "embedding_1 (Embedding)      (None, 200, 128)          2560000   \n",
      "_________________________________________________________________\n",
      "lstm_layer (LSTM)            (None, 200, 60)           45360     \n",
      "_________________________________________________________________\n",
      "global_max_pooling1d_1 (Glob (None, 60)                0         \n",
      "_________________________________________________________________\n",
      "dropout_1 (Dropout)          (None, 60)                0         \n",
      "_________________________________________________________________\n",
      "dense_1 (Dense)              (None, 6)                 366       \n",
      "=================================================================\n",
      "Total params: 2,605,726\n",
      "Trainable params: 2,605,726\n",
      "Non-trainable params: 0\n",
      "_________________________________________________________________\n"
     ]
    }
   ],
   "source": [
    "model.summary()"
   ]
  },
  {
   "cell_type": "code",
   "execution_count": 51,
   "metadata": {},
   "outputs": [
    {
     "name": "stderr",
     "output_type": "stream",
     "text": [
      "C:\\Users\\henri\\Anaconda3\\lib\\site-packages\\tensorflow_core\\python\\framework\\indexed_slices.py:433: UserWarning: Converting sparse IndexedSlices to a dense Tensor of unknown shape. This may consume a large amount of memory.\n",
      "  \"Converting sparse IndexedSlices to a dense Tensor of unknown shape. \"\n"
     ]
    },
    {
     "name": "stdout",
     "output_type": "stream",
     "text": [
      "Train on 100529 samples, validate on 11170 samples\n",
      "Epoch 1/15\n",
      "100529/100529 [==============================] - 108s 1ms/step - loss: 0.1605 - recall_0: 0.0956 - recall_1: 0.0107 - recall_2: 0.0486 - recall_3: 0.0000e+00 - recall_4: 0.0571 - recall_5: 0.0000e+00 - precision_0: 4.4845e-04 - precision_1: 0.0282 - precision_2: 0.1025 - precision_3: 0.0000e+00 - precision_4: 0.0012 - precision_5: 0.0000e+00 - accuracy: 0.0000e+00 - val_loss: 0.0980 - val_recall_0: 0.9008 - val_recall_1: 0.0173 - val_recall_2: 0.0511 - val_recall_3: 0.0000e+00 - val_recall_4: 0.2122 - val_recall_5: 0.0000e+00 - val_precision_0: 0.0272 - val_precision_1: 0.0086 - val_precision_2: 0.0226 - val_precision_3: 0.0000e+00 - val_precision_4: 0.0016 - val_precision_5: 0.0000e+00 - val_accuracy: 0.0000e+00\n",
      "Epoch 2/15\n",
      "100529/100529 [==============================] - 136s 1ms/step - loss: 0.0588 - recall_0: 0.8829 - recall_1: 0.0695 - recall_2: 0.3372 - recall_3: 0.0053 - recall_4: 0.7017 - recall_5: 0.1766 - precision_0: 0.1982 - precision_1: 0.0248 - precision_2: 0.1755 - precision_3: 0.0015 - precision_4: 0.1439 - precision_5: 0.0046 - accuracy: 0.0000e+00 - val_loss: 0.0534 - val_recall_0: 0.8627 - val_recall_1: 0.1493 - val_recall_2: 0.5479 - val_recall_3: 0.0168 - val_recall_4: 0.7304 - val_recall_5: 0.1240 - val_precision_0: 0.3377 - val_precision_1: 0.0482 - val_precision_2: 0.3284 - val_precision_3: 0.0045 - val_precision_4: 0.2766 - val_precision_5: 0.0064 - val_accuracy: 0.0000e+00\n",
      "Epoch 3/15\n",
      "100529/100529 [==============================] - 149s 1ms/step - loss: 0.0455 - recall_0: 0.8631 - recall_1: 0.2261 - recall_2: 0.6263 - recall_3: 0.0159 - recall_4: 0.7371 - recall_5: 0.1274 - precision_0: 0.4212 - precision_1: 0.0724 - precision_2: 0.4166 - precision_3: 0.0038 - precision_4: 0.3526 - precision_5: 0.0072 - accuracy: 0.0000e+00 - val_loss: 0.0530 - val_recall_0: 0.8623 - val_recall_1: 0.2832 - val_recall_2: 0.6800 - val_recall_3: 0.0195 - val_recall_4: 0.7420 - val_recall_5: 0.1435 - val_precision_0: 0.4830 - val_precision_1: 0.0903 - val_precision_2: 0.4836 - val_precision_3: 0.0040 - val_precision_4: 0.4116 - val_precision_5: 0.0081 - val_accuracy: 0.0000e+00\n",
      "Epoch 4/15\n",
      "100529/100529 [==============================] - 130s 1ms/step - loss: 0.0409 - recall_0: 0.8655 - recall_1: 0.3332 - recall_2: 0.7110 - recall_3: 0.0248 - recall_4: 0.7482 - recall_5: 0.1567 - precision_0: 0.5274 - precision_1: 0.1095 - precision_2: 0.5292 - precision_3: 0.0044 - precision_4: 0.4541 - precision_5: 0.0080 - accuracy: 0.0000e+00 - val_loss: 0.0518 - val_recall_0: 0.8669 - val_recall_1: 0.3706 - val_recall_2: 0.7345 - val_recall_3: 0.0279 - val_recall_4: 0.7506 - val_recall_5: 0.1851 - val_precision_0: 0.5630 - val_precision_1: 0.1252 - val_precision_2: 0.5652 - val_precision_3: 0.0044 - val_precision_4: 0.4874 - val_precision_5: 0.0091 - val_accuracy: 0.0000e+00\n",
      "Epoch 5/15\n",
      "100529/100529 [==============================] - 128s 1ms/step - loss: 0.0370 - recall_0: 0.8692 - recall_1: 0.3978 - recall_2: 0.7520 - recall_3: 0.0291 - recall_4: 0.7541 - recall_5: 0.2437 - precision_0: 0.5910 - precision_1: 0.1386 - precision_2: 0.5924 - precision_3: 0.0042 - precision_4: 0.5141 - precision_5: 0.0135 - accuracy: 0.0000e+00 - val_loss: 0.0545 - val_recall_0: 0.8710 - val_recall_1: 0.4239 - val_recall_2: 0.7663 - val_recall_3: 0.0307 - val_recall_4: 0.7587 - val_recall_5: 0.3637 - val_precision_0: 0.6137 - val_precision_1: 0.1531 - val_precision_2: 0.6160 - val_precision_3: 0.0041 - val_precision_4: 0.5374 - val_precision_5: 0.0256 - val_accuracy: 0.0000e+00\n",
      "Epoch 6/15\n",
      "100529/100529 [==============================] - 129s 1ms/step - loss: 0.0345 - recall_0: 0.8735 - recall_1: 0.4431 - recall_2: 0.7786 - recall_3: 0.0316 - recall_4: 0.7648 - recall_5: 0.4657 - precision_0: 0.6339 - precision_1: 0.1664 - precision_2: 0.6347 - precision_3: 0.0040 - precision_4: 0.5567 - precision_5: 0.0469 - accuracy: 0.0000e+00 - val_loss: 0.0538 - val_recall_0: 0.8749 - val_recall_1: 0.4578 - val_recall_2: 0.7880 - val_recall_3: 0.0366 - val_recall_4: 0.7680 - val_recall_5: 0.5207 - val_precision_0: 0.6496 - val_precision_1: 0.1779 - val_precision_2: 0.6506 - val_precision_3: 0.0044 - val_precision_4: 0.5718 - val_precision_5: 0.0645 - val_accuracy: 0.0000e+00\n",
      "Epoch 7/15\n",
      "100529/100529 [==============================] - 159s 2ms/step - loss: 0.0325 - recall_0: 0.8770 - recall_1: 0.4739 - recall_2: 0.7967 - recall_3: 0.0455 - recall_4: 0.7730 - recall_5: 0.5610 - precision_0: 0.6638 - precision_1: 0.1908 - precision_2: 0.6653 - precision_3: 0.0052 - precision_4: 0.5867 - precision_5: 0.0855 - accuracy: 0.0000e+00 - val_loss: 0.0563 - val_recall_0: 0.8776 - val_recall_1: 0.4855 - val_recall_2: 0.8034 - val_recall_3: 0.0536 - val_recall_4: 0.7760 - val_recall_5: 0.5811 - val_precision_0: 0.6764 - val_precision_1: 0.1999 - val_precision_2: 0.6776 - val_precision_3: 0.0059 - val_precision_4: 0.5997 - val_precision_5: 0.1047 - val_accuracy: 0.0000e+00\n",
      "Epoch 8/15\n",
      "100529/100529 [==============================] - 146s 1ms/step - loss: 0.0295 - recall_0: 0.8796 - recall_1: 0.4987 - recall_2: 0.8104 - recall_3: 0.0791 - recall_4: 0.7811 - recall_5: 0.6021 - precision_0: 0.6891 - precision_1: 0.2086 - precision_2: 0.6891 - precision_3: 0.0085 - precision_4: 0.6125 - precision_5: 0.1266 - accuracy: 0.0000e+00 - val_loss: 0.0595 - val_recall_0: 0.8813 - val_recall_1: 0.5085 - val_recall_2: 0.8160 - val_recall_3: 0.1027 - val_recall_4: 0.7843 - val_recall_5: 0.6185 - val_precision_0: 0.6998 - val_precision_1: 0.2170 - val_precision_2: 0.6992 - val_precision_3: 0.0110 - val_precision_4: 0.6224 - val_precision_5: 0.1465 - val_accuracy: 0.0000e+00\n",
      "Epoch 9/15\n",
      "100529/100529 [==============================] - 152s 2ms/step - loss: 0.0272 - recall_0: 0.8832 - recall_1: 0.5182 - recall_2: 0.8215 - recall_3: 0.1134 - recall_4: 0.7889 - recall_5: 0.6383 - precision_0: 0.7099 - precision_1: 0.2250 - precision_2: 0.7087 - precision_3: 0.0119 - precision_4: 0.6326 - precision_5: 0.1671 - accuracy: 0.0000e+00 - val_loss: 0.0610 - val_recall_0: 0.8847 - val_recall_1: 0.5267 - val_recall_2: 0.8262 - val_recall_3: 0.1242 - val_recall_4: 0.7923 - val_recall_5: 0.6518 - val_precision_0: 0.7190 - val_precision_1: 0.2334 - val_precision_2: 0.7172 - val_precision_3: 0.0128 - val_precision_4: 0.6421 - val_precision_5: 0.1845 - val_accuracy: 0.0000e+00\n",
      "Epoch 10/15\n",
      "100529/100529 [==============================] - 153s 2ms/step - loss: 0.0253 - recall_0: 0.8865 - recall_1: 0.5341 - recall_2: 0.8310 - recall_3: 0.1548 - recall_4: 0.7964 - recall_5: 0.6659 - precision_0: 0.7278 - precision_1: 0.2409 - precision_2: 0.7250 - precision_3: 0.0161 - precision_4: 0.6510 - precision_5: 0.2038 - accuracy: 0.0000e+00 - val_loss: 0.0633 - val_recall_0: 0.8878 - val_recall_1: 0.5428 - val_recall_2: 0.8350 - val_recall_3: 0.1889 - val_recall_4: 0.7995 - val_recall_5: 0.6759 - val_precision_0: 0.7357 - val_precision_1: 0.2498 - val_precision_2: 0.7323 - val_precision_3: 0.0199 - val_precision_4: 0.6592 - val_precision_5: 0.2225 - val_accuracy: 0.0000e+00\n",
      "Epoch 11/15\n",
      "100529/100529 [==============================] - 150s 1ms/step - loss: 0.0232 - recall_0: 0.8896 - recall_1: 0.5509 - recall_2: 0.8390 - recall_3: 0.2257 - recall_4: 0.8035 - recall_5: 0.6892 - precision_0: 0.7436 - precision_1: 0.2583 - precision_2: 0.7393 - precision_3: 0.0248 - precision_4: 0.6678 - precision_5: 0.2423 - accuracy: 0.0000e+00 - val_loss: 0.0649 - val_recall_0: 0.8904 - val_recall_1: 0.5584 - val_recall_2: 0.8420 - val_recall_3: 0.2764 - val_recall_4: 0.8055 - val_recall_5: 0.6970 - val_precision_0: 0.7507 - val_precision_1: 0.2666 - val_precision_2: 0.7456 - val_precision_3: 0.0321 - val_precision_4: 0.6749 - val_precision_5: 0.2582 - val_accuracy: 0.0000e+00\n",
      "Epoch 12/15\n",
      "100529/100529 [==============================] - 144s 1ms/step - loss: 0.0216 - recall_0: 0.8916 - recall_1: 0.5652 - recall_2: 0.8451 - recall_3: 0.3180 - recall_4: 0.8091 - recall_5: 0.7079 - precision_0: 0.7576 - precision_1: 0.2744 - precision_2: 0.7517 - precision_3: 0.0395 - precision_4: 0.6825 - precision_5: 0.2756 - accuracy: 0.0000e+00 - val_loss: 0.0700 - val_recall_0: 0.8932 - val_recall_1: 0.5714 - val_recall_2: 0.8480 - val_recall_3: 0.3610 - val_recall_4: 0.8120 - val_recall_5: 0.7164 - val_precision_0: 0.7635 - val_precision_1: 0.2822 - val_precision_2: 0.7570 - val_precision_3: 0.0478 - val_precision_4: 0.6885 - val_precision_5: 0.2904 - val_accuracy: 0.0000e+00\n"
     ]
    },
    {
     "name": "stdout",
     "output_type": "stream",
     "text": [
      "Epoch 13/15\n",
      "100529/100529 [==============================] - 145s 1ms/step - loss: 0.0198 - recall_0: 0.8951 - recall_1: 0.5785 - recall_2: 0.8511 - recall_3: 0.4127 - recall_4: 0.8156 - recall_5: 0.7242 - precision_0: 0.7694 - precision_1: 0.2904 - precision_2: 0.7623 - precision_3: 0.0595 - precision_4: 0.6947 - precision_5: 0.3059 - accuracy: 0.0000e+00 - val_loss: 0.0714 - val_recall_0: 0.8966 - val_recall_1: 0.5857 - val_recall_2: 0.8541 - val_recall_3: 0.4544 - val_recall_4: 0.8181 - val_recall_5: 0.7321 - val_precision_0: 0.7747 - val_precision_1: 0.2983 - val_precision_2: 0.7671 - val_precision_3: 0.0700 - val_precision_4: 0.7005 - val_precision_5: 0.3210 - val_accuracy: 0.0000e+00\n",
      "Epoch 14/15\n",
      "100529/100529 [==============================] - 143s 1ms/step - loss: 0.0182 - recall_0: 0.8982 - recall_1: 0.5936 - recall_2: 0.8570 - recall_3: 0.4902 - recall_4: 0.8213 - recall_5: 0.7402 - precision_0: 0.7802 - precision_1: 0.3073 - precision_2: 0.7718 - precision_3: 0.0824 - precision_4: 0.7064 - precision_5: 0.3356 - accuracy: 0.0000e+00 - val_loss: 0.0745 - val_recall_0: 0.8997 - val_recall_1: 0.6009 - val_recall_2: 0.8597 - val_recall_3: 0.5195 - val_recall_4: 0.8241 - val_recall_5: 0.7461 - val_precision_0: 0.7852 - val_precision_1: 0.3148 - val_precision_2: 0.7760 - val_precision_3: 0.0942 - val_precision_4: 0.7117 - val_precision_5: 0.3486 - val_accuracy: 0.0000e+00\n",
      "Epoch 15/15\n",
      "100529/100529 [==============================] - 146s 1ms/step - loss: 0.0170 - recall_0: 0.9012 - recall_1: 0.6069 - recall_2: 0.8624 - recall_3: 0.5454 - recall_4: 0.8272 - recall_5: 0.7534 - precision_0: 0.7901 - precision_1: 0.3224 - precision_2: 0.7803 - precision_3: 0.1060 - precision_4: 0.7172 - precision_5: 0.3613 - accuracy: 0.0000e+00 - val_loss: 0.0778 - val_recall_0: 0.9027 - val_recall_1: 0.6123 - val_recall_2: 0.8647 - val_recall_3: 0.5676 - val_recall_4: 0.8295 - val_recall_5: 0.7598 - val_precision_0: 0.7944 - val_precision_1: 0.3290 - val_precision_2: 0.7841 - val_precision_3: 0.1173 - val_precision_4: 0.7220 - val_precision_5: 0.3740 - val_accuracy: 0.0000e+00\n"
     ]
    }
   ],
   "source": [
    "batch_size = 256\n",
    "epochs = 15\n",
    "history = model.fit(X_train,y_train, batch_size=batch_size, validation_split=0.1, epochs=epochs)"
   ]
  },
  {
   "cell_type": "code",
   "execution_count": null,
   "metadata": {},
   "outputs": [],
   "source": [
    "loss = history.history['loss']\n",
    "val_loss = history.history['val_loss']\n",
    "\n",
    "epochs = range(1, len(loss) + 1)\n",
    "\n",
    "plt.plot(epochs, loss, 'bo', label='Função de custo no treinamento')\n",
    "plt.plot(epochs, val_loss, 'b', label='Função de custo na validação')\n",
    "plt.title('Função de custo no treinamento e na validação sem Penalizing Loss Modelo 1')\n",
    "plt.xlabel('Épocas')\n",
    "plt.ylabel('Função de custo')\n",
    "plt.legend()\n",
    "\n",
    "plt.show()"
   ]
  },
  {
   "cell_type": "code",
   "execution_count": 52,
   "metadata": {},
   "outputs": [
    {
     "name": "stdout",
     "output_type": "stream",
     "text": [
      "47872/47872 [==============================] - 78s 2ms/step\n"
     ]
    }
   ],
   "source": [
    "test_metrics = model.evaluate(X_test,y_test)\n",
    "\n",
    "print('\\nRecall Toxic:',test_metrics[1])\n",
    "print('\\nRecall Severe Toxic:',test_metrics[2])\n",
    "print('\\nRecall Obscene:',test_metrics[3])\n",
    "print('\\nRecall Threat:',test_metrics[4])\n",
    "print('\\nRecall Insult:',test_metrics[5])\n",
    "print('\\nRecall Identity Hate:',test_metrics[6])\n",
    "print('\\nPrecision Toxic:',test_metrics[7])\n",
    "print('\\nPrecision Severe Toxic:',test_metrics[8])\n",
    "print('\\nPrecision Obscene:',test_metrics[9])\n",
    "print('\\nPrecision Threat:',test_metrics[10])\n",
    "print('\\nPrecision Insult:',test_metrics[11])\n",
    "print('\\nPrecision Identity Hate:',test_metrics[12])"
   ]
  }
 ],
 "metadata": {
  "kernelspec": {
   "display_name": "Python 3",
   "language": "python",
   "name": "python3"
  },
  "language_info": {
   "codemirror_mode": {
    "name": "ipython",
    "version": 3
   },
   "file_extension": ".py",
   "mimetype": "text/x-python",
   "name": "python",
   "nbconvert_exporter": "python",
   "pygments_lexer": "ipython3",
   "version": "3.7.6"
  }
 },
 "nbformat": 4,
 "nbformat_minor": 4
}
